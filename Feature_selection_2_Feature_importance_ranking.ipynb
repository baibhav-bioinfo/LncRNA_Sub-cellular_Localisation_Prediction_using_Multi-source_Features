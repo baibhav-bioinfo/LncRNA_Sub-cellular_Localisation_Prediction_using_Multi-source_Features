{
 "cells": [
  {
   "cell_type": "code",
   "execution_count": 1,
   "id": "e385080e",
   "metadata": {},
   "outputs": [],
   "source": [
    "from sklearn.ensemble import ExtraTreesClassifier\n",
    "import matplotlib.pyplot as plt\n",
    "import pandas as pd"
   ]
  },
  {
   "cell_type": "code",
   "execution_count": 2,
   "id": "58e8e9ac",
   "metadata": {},
   "outputs": [],
   "source": [
    "# Assuming X and y are your data\n",
    "model = ExtraTreesClassifier()"
   ]
  },
  {
   "cell_type": "code",
   "execution_count": 4,
   "id": "28bceb4e",
   "metadata": {},
   "outputs": [],
   "source": [
    "df = pd.read_csv(\"0.Merge_all_features_5477_with_class.csv\")"
   ]
  },
  {
   "cell_type": "code",
   "execution_count": 7,
   "id": "afc66ca7",
   "metadata": {},
   "outputs": [
    {
     "data": {
      "text/html": [
       "<div>\n",
       "<style scoped>\n",
       "    .dataframe tbody tr th:only-of-type {\n",
       "        vertical-align: middle;\n",
       "    }\n",
       "\n",
       "    .dataframe tbody tr th {\n",
       "        vertical-align: top;\n",
       "    }\n",
       "\n",
       "    .dataframe thead th {\n",
       "        text-align: right;\n",
       "    }\n",
       "</style>\n",
       "<table border=\"1\" class=\"dataframe\">\n",
       "  <thead>\n",
       "    <tr style=\"text-align: right;\">\n",
       "      <th></th>\n",
       "      <th>A_freq</th>\n",
       "      <th>T_freq</th>\n",
       "      <th>C_freq</th>\n",
       "      <th>G_freq</th>\n",
       "      <th>GC_content</th>\n",
       "      <th>AC_freq</th>\n",
       "      <th>CC_freq</th>\n",
       "      <th>CT_freq</th>\n",
       "      <th>TT_freq</th>\n",
       "      <th>TG_freq</th>\n",
       "      <th>...</th>\n",
       "      <th>17</th>\n",
       "      <th>18</th>\n",
       "      <th>19</th>\n",
       "      <th>20</th>\n",
       "      <th>Molecular_Weight_g/mol</th>\n",
       "      <th>GC_Content_%</th>\n",
       "      <th>Melting_Temperature_C</th>\n",
       "      <th>ORF_Length</th>\n",
       "      <th>ORF_GC_Content</th>\n",
       "      <th>ORF_Count</th>\n",
       "    </tr>\n",
       "  </thead>\n",
       "  <tbody>\n",
       "    <tr>\n",
       "      <th>0</th>\n",
       "      <td>0.236915</td>\n",
       "      <td>0.255647</td>\n",
       "      <td>0.262810</td>\n",
       "      <td>0.244628</td>\n",
       "      <td>0.507438</td>\n",
       "      <td>0.047409</td>\n",
       "      <td>0.080485</td>\n",
       "      <td>0.089857</td>\n",
       "      <td>0.068908</td>\n",
       "      <td>0.087652</td>\n",
       "      <td>...</td>\n",
       "      <td>0</td>\n",
       "      <td>0</td>\n",
       "      <td>0</td>\n",
       "      <td>0</td>\n",
       "      <td>321433.7929</td>\n",
       "      <td>50.743802</td>\n",
       "      <td>102.804380</td>\n",
       "      <td>285</td>\n",
       "      <td>0.508772</td>\n",
       "      <td>35</td>\n",
       "    </tr>\n",
       "    <tr>\n",
       "      <th>1</th>\n",
       "      <td>0.268269</td>\n",
       "      <td>0.273664</td>\n",
       "      <td>0.230505</td>\n",
       "      <td>0.227563</td>\n",
       "      <td>0.458068</td>\n",
       "      <td>0.051521</td>\n",
       "      <td>0.065751</td>\n",
       "      <td>0.078508</td>\n",
       "      <td>0.087341</td>\n",
       "      <td>0.073602</td>\n",
       "      <td>...</td>\n",
       "      <td>1</td>\n",
       "      <td>0</td>\n",
       "      <td>0</td>\n",
       "      <td>0</td>\n",
       "      <td>349364.7098</td>\n",
       "      <td>45.806768</td>\n",
       "      <td>100.816513</td>\n",
       "      <td>195</td>\n",
       "      <td>0.538462</td>\n",
       "      <td>35</td>\n",
       "    </tr>\n",
       "    <tr>\n",
       "      <th>2</th>\n",
       "      <td>0.262225</td>\n",
       "      <td>0.282644</td>\n",
       "      <td>0.243418</td>\n",
       "      <td>0.211714</td>\n",
       "      <td>0.455132</td>\n",
       "      <td>0.049462</td>\n",
       "      <td>0.060215</td>\n",
       "      <td>0.083871</td>\n",
       "      <td>0.091398</td>\n",
       "      <td>0.073118</td>\n",
       "      <td>...</td>\n",
       "      <td>0</td>\n",
       "      <td>0</td>\n",
       "      <td>0</td>\n",
       "      <td>0</td>\n",
       "      <td>312020.8765</td>\n",
       "      <td>45.513165</td>\n",
       "      <td>100.667990</td>\n",
       "      <td>279</td>\n",
       "      <td>0.455197</td>\n",
       "      <td>21</td>\n",
       "    </tr>\n",
       "  </tbody>\n",
       "</table>\n",
       "<p>3 rows × 5477 columns</p>\n",
       "</div>"
      ],
      "text/plain": [
       "     A_freq    T_freq    C_freq    G_freq  GC_content   AC_freq   CC_freq  \\\n",
       "0  0.236915  0.255647  0.262810  0.244628    0.507438  0.047409  0.080485   \n",
       "1  0.268269  0.273664  0.230505  0.227563    0.458068  0.051521  0.065751   \n",
       "2  0.262225  0.282644  0.243418  0.211714    0.455132  0.049462  0.060215   \n",
       "\n",
       "    CT_freq   TT_freq   TG_freq  ...  17  18  19  20  Molecular_Weight_g/mol  \\\n",
       "0  0.089857  0.068908  0.087652  ...   0   0   0   0             321433.7929   \n",
       "1  0.078508  0.087341  0.073602  ...   1   0   0   0             349364.7098   \n",
       "2  0.083871  0.091398  0.073118  ...   0   0   0   0             312020.8765   \n",
       "\n",
       "   GC_Content_%  Melting_Temperature_C  ORF_Length  ORF_GC_Content  ORF_Count  \n",
       "0     50.743802             102.804380         285        0.508772         35  \n",
       "1     45.806768             100.816513         195        0.538462         35  \n",
       "2     45.513165             100.667990         279        0.455197         21  \n",
       "\n",
       "[3 rows x 5477 columns]"
      ]
     },
     "execution_count": 7,
     "metadata": {},
     "output_type": "execute_result"
    }
   ],
   "source": [
    "X.head(3)"
   ]
  },
  {
   "cell_type": "code",
   "execution_count": 8,
   "id": "8de6238a",
   "metadata": {},
   "outputs": [],
   "source": [
    "X = df.iloc[:, :-1]\n",
    "y = df.iloc[:, -1]"
   ]
  },
  {
   "cell_type": "code",
   "execution_count": null,
   "id": "e9fc402a",
   "metadata": {},
   "outputs": [],
   "source": []
  },
  {
   "cell_type": "code",
   "execution_count": 9,
   "id": "3ad2553e",
   "metadata": {},
   "outputs": [
    {
     "data": {
      "text/html": [
       "<div>\n",
       "<style scoped>\n",
       "    .dataframe tbody tr th:only-of-type {\n",
       "        vertical-align: middle;\n",
       "    }\n",
       "\n",
       "    .dataframe tbody tr th {\n",
       "        vertical-align: top;\n",
       "    }\n",
       "\n",
       "    .dataframe thead th {\n",
       "        text-align: right;\n",
       "    }\n",
       "</style>\n",
       "<table border=\"1\" class=\"dataframe\">\n",
       "  <thead>\n",
       "    <tr style=\"text-align: right;\">\n",
       "      <th></th>\n",
       "      <th>A_freq</th>\n",
       "      <th>T_freq</th>\n",
       "      <th>C_freq</th>\n",
       "      <th>G_freq</th>\n",
       "      <th>GC_content</th>\n",
       "      <th>AC_freq</th>\n",
       "      <th>CC_freq</th>\n",
       "      <th>CT_freq</th>\n",
       "      <th>TT_freq</th>\n",
       "      <th>TG_freq</th>\n",
       "      <th>...</th>\n",
       "      <th>17</th>\n",
       "      <th>18</th>\n",
       "      <th>19</th>\n",
       "      <th>20</th>\n",
       "      <th>Molecular_Weight_g/mol</th>\n",
       "      <th>GC_Content_%</th>\n",
       "      <th>Melting_Temperature_C</th>\n",
       "      <th>ORF_Length</th>\n",
       "      <th>ORF_GC_Content</th>\n",
       "      <th>ORF_Count</th>\n",
       "    </tr>\n",
       "  </thead>\n",
       "  <tbody>\n",
       "    <tr>\n",
       "      <th>0</th>\n",
       "      <td>0.236915</td>\n",
       "      <td>0.255647</td>\n",
       "      <td>0.262810</td>\n",
       "      <td>0.244628</td>\n",
       "      <td>0.507438</td>\n",
       "      <td>0.047409</td>\n",
       "      <td>0.080485</td>\n",
       "      <td>0.089857</td>\n",
       "      <td>0.068908</td>\n",
       "      <td>0.087652</td>\n",
       "      <td>...</td>\n",
       "      <td>0</td>\n",
       "      <td>0</td>\n",
       "      <td>0</td>\n",
       "      <td>0</td>\n",
       "      <td>321433.7929</td>\n",
       "      <td>50.743802</td>\n",
       "      <td>102.804380</td>\n",
       "      <td>285</td>\n",
       "      <td>0.508772</td>\n",
       "      <td>35</td>\n",
       "    </tr>\n",
       "    <tr>\n",
       "      <th>1</th>\n",
       "      <td>0.268269</td>\n",
       "      <td>0.273664</td>\n",
       "      <td>0.230505</td>\n",
       "      <td>0.227563</td>\n",
       "      <td>0.458068</td>\n",
       "      <td>0.051521</td>\n",
       "      <td>0.065751</td>\n",
       "      <td>0.078508</td>\n",
       "      <td>0.087341</td>\n",
       "      <td>0.073602</td>\n",
       "      <td>...</td>\n",
       "      <td>1</td>\n",
       "      <td>0</td>\n",
       "      <td>0</td>\n",
       "      <td>0</td>\n",
       "      <td>349364.7098</td>\n",
       "      <td>45.806768</td>\n",
       "      <td>100.816513</td>\n",
       "      <td>195</td>\n",
       "      <td>0.538462</td>\n",
       "      <td>35</td>\n",
       "    </tr>\n",
       "    <tr>\n",
       "      <th>2</th>\n",
       "      <td>0.262225</td>\n",
       "      <td>0.282644</td>\n",
       "      <td>0.243418</td>\n",
       "      <td>0.211714</td>\n",
       "      <td>0.455132</td>\n",
       "      <td>0.049462</td>\n",
       "      <td>0.060215</td>\n",
       "      <td>0.083871</td>\n",
       "      <td>0.091398</td>\n",
       "      <td>0.073118</td>\n",
       "      <td>...</td>\n",
       "      <td>0</td>\n",
       "      <td>0</td>\n",
       "      <td>0</td>\n",
       "      <td>0</td>\n",
       "      <td>312020.8765</td>\n",
       "      <td>45.513165</td>\n",
       "      <td>100.667990</td>\n",
       "      <td>279</td>\n",
       "      <td>0.455197</td>\n",
       "      <td>21</td>\n",
       "    </tr>\n",
       "  </tbody>\n",
       "</table>\n",
       "<p>3 rows × 5477 columns</p>\n",
       "</div>"
      ],
      "text/plain": [
       "     A_freq    T_freq    C_freq    G_freq  GC_content   AC_freq   CC_freq  \\\n",
       "0  0.236915  0.255647  0.262810  0.244628    0.507438  0.047409  0.080485   \n",
       "1  0.268269  0.273664  0.230505  0.227563    0.458068  0.051521  0.065751   \n",
       "2  0.262225  0.282644  0.243418  0.211714    0.455132  0.049462  0.060215   \n",
       "\n",
       "    CT_freq   TT_freq   TG_freq  ...  17  18  19  20  Molecular_Weight_g/mol  \\\n",
       "0  0.089857  0.068908  0.087652  ...   0   0   0   0             321433.7929   \n",
       "1  0.078508  0.087341  0.073602  ...   1   0   0   0             349364.7098   \n",
       "2  0.083871  0.091398  0.073118  ...   0   0   0   0             312020.8765   \n",
       "\n",
       "   GC_Content_%  Melting_Temperature_C  ORF_Length  ORF_GC_Content  ORF_Count  \n",
       "0     50.743802             102.804380         285        0.508772         35  \n",
       "1     45.806768             100.816513         195        0.538462         35  \n",
       "2     45.513165             100.667990         279        0.455197         21  \n",
       "\n",
       "[3 rows x 5477 columns]"
      ]
     },
     "execution_count": 9,
     "metadata": {},
     "output_type": "execute_result"
    }
   ],
   "source": [
    "X.head(3)"
   ]
  },
  {
   "cell_type": "code",
   "execution_count": 10,
   "id": "a62ba0c1",
   "metadata": {},
   "outputs": [
    {
     "data": {
      "text/plain": [
       "0    1\n",
       "1    1\n",
       "2    1\n",
       "Name: Class, dtype: int64"
      ]
     },
     "execution_count": 10,
     "metadata": {},
     "output_type": "execute_result"
    }
   ],
   "source": [
    "y.head(3)"
   ]
  },
  {
   "cell_type": "code",
   "execution_count": 11,
   "id": "70c89810",
   "metadata": {},
   "outputs": [
    {
     "data": {
      "text/html": [
       "<style>#sk-container-id-1 {color: black;}#sk-container-id-1 pre{padding: 0;}#sk-container-id-1 div.sk-toggleable {background-color: white;}#sk-container-id-1 label.sk-toggleable__label {cursor: pointer;display: block;width: 100%;margin-bottom: 0;padding: 0.3em;box-sizing: border-box;text-align: center;}#sk-container-id-1 label.sk-toggleable__label-arrow:before {content: \"▸\";float: left;margin-right: 0.25em;color: #696969;}#sk-container-id-1 label.sk-toggleable__label-arrow:hover:before {color: black;}#sk-container-id-1 div.sk-estimator:hover label.sk-toggleable__label-arrow:before {color: black;}#sk-container-id-1 div.sk-toggleable__content {max-height: 0;max-width: 0;overflow: hidden;text-align: left;background-color: #f0f8ff;}#sk-container-id-1 div.sk-toggleable__content pre {margin: 0.2em;color: black;border-radius: 0.25em;background-color: #f0f8ff;}#sk-container-id-1 input.sk-toggleable__control:checked~div.sk-toggleable__content {max-height: 200px;max-width: 100%;overflow: auto;}#sk-container-id-1 input.sk-toggleable__control:checked~label.sk-toggleable__label-arrow:before {content: \"▾\";}#sk-container-id-1 div.sk-estimator input.sk-toggleable__control:checked~label.sk-toggleable__label {background-color: #d4ebff;}#sk-container-id-1 div.sk-label input.sk-toggleable__control:checked~label.sk-toggleable__label {background-color: #d4ebff;}#sk-container-id-1 input.sk-hidden--visually {border: 0;clip: rect(1px 1px 1px 1px);clip: rect(1px, 1px, 1px, 1px);height: 1px;margin: -1px;overflow: hidden;padding: 0;position: absolute;width: 1px;}#sk-container-id-1 div.sk-estimator {font-family: monospace;background-color: #f0f8ff;border: 1px dotted black;border-radius: 0.25em;box-sizing: border-box;margin-bottom: 0.5em;}#sk-container-id-1 div.sk-estimator:hover {background-color: #d4ebff;}#sk-container-id-1 div.sk-parallel-item::after {content: \"\";width: 100%;border-bottom: 1px solid gray;flex-grow: 1;}#sk-container-id-1 div.sk-label:hover label.sk-toggleable__label {background-color: #d4ebff;}#sk-container-id-1 div.sk-serial::before {content: \"\";position: absolute;border-left: 1px solid gray;box-sizing: border-box;top: 0;bottom: 0;left: 50%;z-index: 0;}#sk-container-id-1 div.sk-serial {display: flex;flex-direction: column;align-items: center;background-color: white;padding-right: 0.2em;padding-left: 0.2em;position: relative;}#sk-container-id-1 div.sk-item {position: relative;z-index: 1;}#sk-container-id-1 div.sk-parallel {display: flex;align-items: stretch;justify-content: center;background-color: white;position: relative;}#sk-container-id-1 div.sk-item::before, #sk-container-id-1 div.sk-parallel-item::before {content: \"\";position: absolute;border-left: 1px solid gray;box-sizing: border-box;top: 0;bottom: 0;left: 50%;z-index: -1;}#sk-container-id-1 div.sk-parallel-item {display: flex;flex-direction: column;z-index: 1;position: relative;background-color: white;}#sk-container-id-1 div.sk-parallel-item:first-child::after {align-self: flex-end;width: 50%;}#sk-container-id-1 div.sk-parallel-item:last-child::after {align-self: flex-start;width: 50%;}#sk-container-id-1 div.sk-parallel-item:only-child::after {width: 0;}#sk-container-id-1 div.sk-dashed-wrapped {border: 1px dashed gray;margin: 0 0.4em 0.5em 0.4em;box-sizing: border-box;padding-bottom: 0.4em;background-color: white;}#sk-container-id-1 div.sk-label label {font-family: monospace;font-weight: bold;display: inline-block;line-height: 1.2em;}#sk-container-id-1 div.sk-label-container {text-align: center;}#sk-container-id-1 div.sk-container {/* jupyter's `normalize.less` sets `[hidden] { display: none; }` but bootstrap.min.css set `[hidden] { display: none !important; }` so we also need the `!important` here to be able to override the default hidden behavior on the sphinx rendered scikit-learn.org. See: https://github.com/scikit-learn/scikit-learn/issues/21755 */display: inline-block !important;position: relative;}#sk-container-id-1 div.sk-text-repr-fallback {display: none;}</style><div id=\"sk-container-id-1\" class=\"sk-top-container\"><div class=\"sk-text-repr-fallback\"><pre>ExtraTreesClassifier()</pre><b>In a Jupyter environment, please rerun this cell to show the HTML representation or trust the notebook. <br />On GitHub, the HTML representation is unable to render, please try loading this page with nbviewer.org.</b></div><div class=\"sk-container\" hidden><div class=\"sk-item\"><div class=\"sk-estimator sk-toggleable\"><input class=\"sk-toggleable__control sk-hidden--visually\" id=\"sk-estimator-id-1\" type=\"checkbox\" checked><label for=\"sk-estimator-id-1\" class=\"sk-toggleable__label sk-toggleable__label-arrow\">ExtraTreesClassifier</label><div class=\"sk-toggleable__content\"><pre>ExtraTreesClassifier()</pre></div></div></div></div></div>"
      ],
      "text/plain": [
       "ExtraTreesClassifier()"
      ]
     },
     "execution_count": 11,
     "metadata": {},
     "output_type": "execute_result"
    }
   ],
   "source": [
    "model.fit(X, y)"
   ]
  },
  {
   "cell_type": "code",
   "execution_count": 12,
   "id": "8386f1bd",
   "metadata": {},
   "outputs": [],
   "source": [
    "# Get feature importances\n",
    "feat_importances = pd.Series(model.feature_importances_, index=X.columns)"
   ]
  },
  {
   "cell_type": "code",
   "execution_count": 13,
   "id": "ac54680a",
   "metadata": {},
   "outputs": [],
   "source": [
    "# Sort the features based on importance\n",
    "sorted_feat_importances = feat_importances.sort_values(ascending=False)"
   ]
  },
  {
   "cell_type": "code",
   "execution_count": 14,
   "id": "1e696154",
   "metadata": {},
   "outputs": [],
   "source": [
    "\n",
    "# Select top 100 features\n",
    "top_100_features = sorted_feat_importances.head(100)\n",
    "\n"
   ]
  },
  {
   "cell_type": "code",
   "execution_count": 15,
   "id": "369b3a4f",
   "metadata": {},
   "outputs": [],
   "source": [
    "# Select these features from your original dataset\n",
    "X_reduced = X[top_100_features.index]\n"
   ]
  },
  {
   "cell_type": "code",
   "execution_count": 17,
   "id": "2ab991da",
   "metadata": {},
   "outputs": [
    {
     "data": {
      "image/png": "[encoded data removed]",
      "text/plain": [
       "<Figure size 432x288 with 1 Axes>"
      ]
     },
     "metadata": {
      "needs_background": "light"
     },
     "output_type": "display_data"
    }
   ],
   "source": [
    "\n",
    "# Plot the top 10 features for visualization\n",
    "top_100_features.head(20).plot(kind='barh')\n",
    "plt.show()"
   ]
  },
  {
   "cell_type": "code",
   "execution_count": 16,
   "id": "ba31f7d8",
   "metadata": {},
   "outputs": [
    {
     "data": {
      "text/plain": [
       "Triple_Helix_Motif    0.003139\n",
       "AAAGA_freq            0.000840\n",
       "G_freq                0.000835\n",
       "GCG_freq              0.000832\n",
       "CG_freq               0.000801\n",
       "                        ...   \n",
       "CACCGC_freq           0.000453\n",
       "CAGAAA_freq           0.000452\n",
       "AGGATA_freq           0.000452\n",
       "AAGACA_freq           0.000452\n",
       "TGTGTT_freq           0.000451\n",
       "Length: 100, dtype: float64"
      ]
     },
     "execution_count": 16,
     "metadata": {},
     "output_type": "execute_result"
    }
   ],
   "source": [
    "top_100_features"
   ]
  },
  {
   "cell_type": "code",
   "execution_count": 17,
   "id": "538731f5",
   "metadata": {},
   "outputs": [],
   "source": [
    "\n",
    "\n",
    "# Now X_reduced contains your dataset with the top 100 features\n"
   ]
  },
  {
   "cell_type": "code",
   "execution_count": 18,
   "id": "5096365f",
   "metadata": {},
   "outputs": [],
   "source": [
    "df_best_100_ranked_features = top_100_features.to_frame()"
   ]
  },
  {
   "cell_type": "code",
   "execution_count": 19,
   "id": "8a150ed6",
   "metadata": {},
   "outputs": [
    {
     "data": {
      "text/html": [
       "<div>\n",
       "<style scoped>\n",
       "    .dataframe tbody tr th:only-of-type {\n",
       "        vertical-align: middle;\n",
       "    }\n",
       "\n",
       "    .dataframe tbody tr th {\n",
       "        vertical-align: top;\n",
       "    }\n",
       "\n",
       "    .dataframe thead th {\n",
       "        text-align: right;\n",
       "    }\n",
       "</style>\n",
       "<table border=\"1\" class=\"dataframe\">\n",
       "  <thead>\n",
       "    <tr style=\"text-align: right;\">\n",
       "      <th></th>\n",
       "      <th>0</th>\n",
       "    </tr>\n",
       "  </thead>\n",
       "  <tbody>\n",
       "    <tr>\n",
       "      <th>Triple_Helix_Motif</th>\n",
       "      <td>0.003139</td>\n",
       "    </tr>\n",
       "    <tr>\n",
       "      <th>AAAGA_freq</th>\n",
       "      <td>0.000840</td>\n",
       "    </tr>\n",
       "    <tr>\n",
       "      <th>G_freq</th>\n",
       "      <td>0.000835</td>\n",
       "    </tr>\n",
       "    <tr>\n",
       "      <th>GCG_freq</th>\n",
       "      <td>0.000832</td>\n",
       "    </tr>\n",
       "    <tr>\n",
       "      <th>CG_freq</th>\n",
       "      <td>0.000801</td>\n",
       "    </tr>\n",
       "    <tr>\n",
       "      <th>...</th>\n",
       "      <td>...</td>\n",
       "    </tr>\n",
       "    <tr>\n",
       "      <th>CACCGC_freq</th>\n",
       "      <td>0.000453</td>\n",
       "    </tr>\n",
       "    <tr>\n",
       "      <th>CAGAAA_freq</th>\n",
       "      <td>0.000452</td>\n",
       "    </tr>\n",
       "    <tr>\n",
       "      <th>AGGATA_freq</th>\n",
       "      <td>0.000452</td>\n",
       "    </tr>\n",
       "    <tr>\n",
       "      <th>AAGACA_freq</th>\n",
       "      <td>0.000452</td>\n",
       "    </tr>\n",
       "    <tr>\n",
       "      <th>TGTGTT_freq</th>\n",
       "      <td>0.000451</td>\n",
       "    </tr>\n",
       "  </tbody>\n",
       "</table>\n",
       "<p>100 rows × 1 columns</p>\n",
       "</div>"
      ],
      "text/plain": [
       "                           0\n",
       "Triple_Helix_Motif  0.003139\n",
       "AAAGA_freq          0.000840\n",
       "G_freq              0.000835\n",
       "GCG_freq            0.000832\n",
       "CG_freq             0.000801\n",
       "...                      ...\n",
       "CACCGC_freq         0.000453\n",
       "CAGAAA_freq         0.000452\n",
       "AGGATA_freq         0.000452\n",
       "AAGACA_freq         0.000452\n",
       "TGTGTT_freq         0.000451\n",
       "\n",
       "[100 rows x 1 columns]"
      ]
     },
     "execution_count": 19,
     "metadata": {},
     "output_type": "execute_result"
    }
   ],
   "source": [
    "df_best_100_ranked_features"
   ]
  },
  {
   "cell_type": "code",
   "execution_count": 20,
   "id": "f8ff0816",
   "metadata": {},
   "outputs": [],
   "source": [
    "df_best_100_ranked_features.to_csv(\"2.best_100_ranked_features_importance.csv\")"
   ]
  },
  {
   "cell_type": "code",
   "execution_count": 21,
   "id": "d80ec339",
   "metadata": {},
   "outputs": [
    {
     "data": {
      "text/plain": [
       "(100, 1)"
      ]
     },
     "execution_count": 21,
     "metadata": {},
     "output_type": "execute_result"
    }
   ],
   "source": [
    "df_best_100_ranked_features.shape"
   ]
  },
  {
   "cell_type": "code",
   "execution_count": null,
   "id": "be475df9",
   "metadata": {},
   "outputs": [],
   "source": []
  },
  {
   "cell_type": "code",
   "execution_count": null,
   "id": "18a8d7f0",
   "metadata": {},
   "outputs": [],
   "source": []
  },
  {
   "cell_type": "code",
   "execution_count": null,
   "id": "f1f6f52b",
   "metadata": {},
   "outputs": [],
   "source": []
  },
  {
   "cell_type": "code",
   "execution_count": null,
   "id": "a24d52f9",
   "metadata": {},
   "outputs": [],
   "source": []
  },
  {
   "cell_type": "code",
   "execution_count": null,
   "id": "46e269cb",
   "metadata": {},
   "outputs": [],
   "source": []
  },
  {
   "cell_type": "code",
   "execution_count": null,
   "id": "31846d6d",
   "metadata": {},
   "outputs": [],
   "source": []
  },
  {
   "cell_type": "code",
   "execution_count": null,
   "id": "27603cef",
   "metadata": {},
   "outputs": [],
   "source": []
  },
  {
   "cell_type": "code",
   "execution_count": null,
   "id": "8099056e",
   "metadata": {},
   "outputs": [],
   "source": []
  },
  {
   "cell_type": "code",
   "execution_count": null,
   "id": "170ec765",
   "metadata": {},
   "outputs": [],
   "source": []
  }
 ],
 "metadata": {
  "kernelspec": {
   "display_name": "Python 3 (ipykernel)",
   "language": "python",
   "name": "python3"
  },
  "language_info": {
   "codemirror_mode": {
    "name": "ipython",
    "version": 3
   },
   "file_extension": ".py",
   "mimetype": "text/x-python",
   "name": "python",
   "nbconvert_exporter": "python",
   "pygments_lexer": "ipython3",
   "version": "3.9.9"
  }
 },
 "nbformat": 4,
 "nbformat_minor": 5
}
