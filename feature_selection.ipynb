{
 "cells": [
  {
   "cell_type": "markdown",
   "id": "eab0af08",
   "metadata": {},
   "source": [
    "## Feature selection - Univariate Selection"
   ]
  },
  {
   "cell_type": "code",
   "execution_count": 7,
   "id": "b0128352",
   "metadata": {},
   "outputs": [],
   "source": [
    "from sklearn.feature_selection import SelectKBest\n",
    "from sklearn.feature_selection import chi2\n",
    "import pandas as pd\n",
    "\n",
    "# Apply SelectKBest class to extract top 10 best features\n",
    "bestfeatures = SelectKBest(score_func=chi2, k=100)\n",
    "\n",
    "df = pd.read_csv(\"6.Merge_all_features_5477_with_class.csv\")\n",
    "\n",
    "X = df.iloc[:, :-1]\n",
    "y = df.iloc[:, -1]\n",
    "\n",
    "fit = bestfeatures.fit(X, y)  # X, y are your data\n",
    "\n",
    "dfscores = pd.DataFrame(fit.scores_)\n",
    "\n",
    "dfcolumns = pd.DataFrame(X.columns)\n",
    "\n",
    "# Concat two dataframes for better visualization \n",
    "featureScores = pd.concat([dfcolumns, dfscores], axis=1)\n",
    "\n",
    "featureScores.columns = ['Specs', 'Score']  # Naming the dataframe columns\n",
    "\n",
    "print(featureScores.nlargest(100,'Score'))  # Print 10 best features\n",
    "\n",
    "featureScores.nlargest(100,'Score')\n",
    "\n",
    "df_best_100_univariate_selection = featureScores.nlargest(100,'Score')"
   ]
  },
  {
   "cell_type": "markdown",
   "id": "b2983d97",
   "metadata": {},
   "source": [
    "## Feature Importance Ranking"
   ]
  },
  {
   "cell_type": "code",
   "execution_count": null,
   "id": "20f52f51",
   "metadata": {},
   "outputs": [],
   "source": [
    "from sklearn.ensemble import ExtraTreesClassifier\n",
    "import matplotlib.pyplot as plt\n",
    "import pandas as pd\n",
    "\n",
    "# Assuming X and y are your data\n",
    "model = ExtraTreesClassifier()\n",
    "\n",
    "df = pd.read_csv(\"0.Merge_all_features_5477_with_class.csv\")\n",
    "\n",
    "X.head(3)\n",
    "\n",
    "X = df.iloc[:, :-1]\n",
    "y = df.iloc[:, -1]\n",
    "\n",
    "X.head(3)\n",
    "y.head(3)\n",
    "\n",
    "model.fit(X, y)\n",
    "\n",
    "# Get feature importances\n",
    "feat_importances = pd.Series(model.feature_importances_, index=X.columns)\n",
    "\n",
    "# Sort the features based on importance\n",
    "sorted_feat_importances = feat_importances.sort_values(ascending=False)\n",
    "\n",
    "# Select top 100 features\n",
    "top_100_features = sorted_feat_importances.head(100)\n",
    "\n",
    "# Select these features from your original dataset\n",
    "X_reduced = X[top_100_features.index]\n",
    "\n",
    "# Plot the top 10 features for visualization\n",
    "top_100_features.head(20).plot(kind='barh')\n",
    "plt.show()\n",
    "\n",
    "top_100_features\n",
    "\n",
    "# Now X_reduced contains your dataset with the top 100 features\n",
    "df_best_100_ranked_features = top_100_features.to_frame()\n",
    "\n",
    "df_best_100_ranked_features"
   ]
  },
  {
   "cell_type": "markdown",
   "id": "a8585bee",
   "metadata": {},
   "source": [
    "## Recursive Feature Elimination"
   ]
  },
  {
   "cell_type": "code",
   "execution_count": null,
   "id": "fe2dbe50",
   "metadata": {},
   "outputs": [],
   "source": [
    "from sklearn.feature_selection import RFE\n",
    "from sklearn.linear_model import LogisticRegression\n",
    "import pandas as pd\n",
    "\n",
    "df = pd.read_csv(\"6.Merge_all_features_5477_with_class.csv\")\n",
    "\n",
    "# Initialize the model\n",
    "model = LogisticRegression(max_iter=1000)  # Increase max_iter if needed\n",
    "\n",
    "# Initialize RFE\n",
    "rfe = RFE(model, n_features_to_select=100)  # Selecting top 100 features\n",
    "\n",
    "# Fit RFE\n",
    "fit = rfe.fit(X, y)\n",
    "\n",
    "# Get the ranking of features\n",
    "feature_ranking = fit.ranking_\n",
    "\n",
    "# Get the mask of selected features\n",
    "selected_features_mask = fit.support_\n",
    "\n",
    "# Extract the selected feature names\n",
    "selected_feature_names = X.columns[selected_features_mask]\n",
    "\n",
    "# Create a DataFrame for the selected features\n",
    "df_selected_features = X[selected_feature_names]"
   ]
  }
 ],
 "metadata": {
  "kernelspec": {
   "display_name": "Python 3 (ipykernel)",
   "language": "python",
   "name": "python3"
  },
  "language_info": {
   "codemirror_mode": {
    "name": "ipython",
    "version": 3
   },
   "file_extension": ".py",
   "mimetype": "text/x-python",
   "name": "python",
   "nbconvert_exporter": "python",
   "pygments_lexer": "ipython3",
   "version": "3.9.9"
  }
 },
 "nbformat": 4,
 "nbformat_minor": 5
}
