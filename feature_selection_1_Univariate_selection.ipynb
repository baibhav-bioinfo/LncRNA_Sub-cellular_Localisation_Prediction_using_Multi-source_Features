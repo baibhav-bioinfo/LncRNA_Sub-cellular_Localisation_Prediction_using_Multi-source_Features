{
 "cells": [
  {
   "cell_type": "code",
   "execution_count": 7,
   "id": "b0128352",
   "metadata": {},
   "outputs": [],
   "source": [
    "from sklearn.feature_selection import SelectKBest\n",
    "from sklearn.feature_selection import chi2\n",
    "import pandas as pd\n"
   ]
  },
  {
   "cell_type": "code",
   "execution_count": 8,
   "id": "7e4651cb",
   "metadata": {},
   "outputs": [],
   "source": [
    "# Apply SelectKBest class to extract top 10 best features\n",
    "bestfeatures = SelectKBest(score_func=chi2, k=100)\n",
    "\n"
   ]
  },
  {
   "cell_type": "code",
   "execution_count": 9,
   "id": "28bceb4e",
   "metadata": {},
   "outputs": [],
   "source": [
    "df = pd.read_csv(\"6.Merge_all_features_5477_with_class.csv\")"
   ]
  },
  {
   "cell_type": "code",
   "execution_count": 17,
   "id": "afc66ca7",
   "metadata": {},
   "outputs": [
    {
     "data": {
      "text/html": [
       "<div>\n",
       "<style scoped>\n",
       "    .dataframe tbody tr th:only-of-type {\n",
       "        vertical-align: middle;\n",
       "    }\n",
       "\n",
       "    .dataframe tbody tr th {\n",
       "        vertical-align: top;\n",
       "    }\n",
       "\n",
       "    .dataframe thead th {\n",
       "        text-align: right;\n",
       "    }\n",
       "</style>\n",
       "<table border=\"1\" class=\"dataframe\">\n",
       "  <thead>\n",
       "    <tr style=\"text-align: right;\">\n",
       "      <th></th>\n",
       "      <th>A_freq</th>\n",
       "      <th>T_freq</th>\n",
       "      <th>C_freq</th>\n",
       "      <th>G_freq</th>\n",
       "      <th>GC_content</th>\n",
       "      <th>AC_freq</th>\n",
       "      <th>CC_freq</th>\n",
       "      <th>CT_freq</th>\n",
       "      <th>TT_freq</th>\n",
       "      <th>TG_freq</th>\n",
       "      <th>...</th>\n",
       "      <th>17</th>\n",
       "      <th>18</th>\n",
       "      <th>19</th>\n",
       "      <th>20</th>\n",
       "      <th>Molecular_Weight_g/mol</th>\n",
       "      <th>GC_Content_%</th>\n",
       "      <th>Melting_Temperature_C</th>\n",
       "      <th>ORF_Length</th>\n",
       "      <th>ORF_GC_Content</th>\n",
       "      <th>ORF_Count</th>\n",
       "    </tr>\n",
       "  </thead>\n",
       "  <tbody>\n",
       "    <tr>\n",
       "      <th>0</th>\n",
       "      <td>0.236915</td>\n",
       "      <td>0.255647</td>\n",
       "      <td>0.262810</td>\n",
       "      <td>0.244628</td>\n",
       "      <td>0.507438</td>\n",
       "      <td>0.047409</td>\n",
       "      <td>0.080485</td>\n",
       "      <td>0.089857</td>\n",
       "      <td>0.068908</td>\n",
       "      <td>0.087652</td>\n",
       "      <td>...</td>\n",
       "      <td>0</td>\n",
       "      <td>0</td>\n",
       "      <td>0</td>\n",
       "      <td>0</td>\n",
       "      <td>321433.7929</td>\n",
       "      <td>50.743802</td>\n",
       "      <td>102.804380</td>\n",
       "      <td>285</td>\n",
       "      <td>0.508772</td>\n",
       "      <td>35</td>\n",
       "    </tr>\n",
       "    <tr>\n",
       "      <th>1</th>\n",
       "      <td>0.268269</td>\n",
       "      <td>0.273664</td>\n",
       "      <td>0.230505</td>\n",
       "      <td>0.227563</td>\n",
       "      <td>0.458068</td>\n",
       "      <td>0.051521</td>\n",
       "      <td>0.065751</td>\n",
       "      <td>0.078508</td>\n",
       "      <td>0.087341</td>\n",
       "      <td>0.073602</td>\n",
       "      <td>...</td>\n",
       "      <td>1</td>\n",
       "      <td>0</td>\n",
       "      <td>0</td>\n",
       "      <td>0</td>\n",
       "      <td>349364.7098</td>\n",
       "      <td>45.806768</td>\n",
       "      <td>100.816513</td>\n",
       "      <td>195</td>\n",
       "      <td>0.538462</td>\n",
       "      <td>35</td>\n",
       "    </tr>\n",
       "    <tr>\n",
       "      <th>2</th>\n",
       "      <td>0.262225</td>\n",
       "      <td>0.282644</td>\n",
       "      <td>0.243418</td>\n",
       "      <td>0.211714</td>\n",
       "      <td>0.455132</td>\n",
       "      <td>0.049462</td>\n",
       "      <td>0.060215</td>\n",
       "      <td>0.083871</td>\n",
       "      <td>0.091398</td>\n",
       "      <td>0.073118</td>\n",
       "      <td>...</td>\n",
       "      <td>0</td>\n",
       "      <td>0</td>\n",
       "      <td>0</td>\n",
       "      <td>0</td>\n",
       "      <td>312020.8765</td>\n",
       "      <td>45.513165</td>\n",
       "      <td>100.667990</td>\n",
       "      <td>279</td>\n",
       "      <td>0.455197</td>\n",
       "      <td>21</td>\n",
       "    </tr>\n",
       "  </tbody>\n",
       "</table>\n",
       "<p>3 rows × 5477 columns</p>\n",
       "</div>"
      ],
      "text/plain": [
       "     A_freq    T_freq    C_freq    G_freq  GC_content   AC_freq   CC_freq  \\\n",
       "0  0.236915  0.255647  0.262810  0.244628    0.507438  0.047409  0.080485   \n",
       "1  0.268269  0.273664  0.230505  0.227563    0.458068  0.051521  0.065751   \n",
       "2  0.262225  0.282644  0.243418  0.211714    0.455132  0.049462  0.060215   \n",
       "\n",
       "    CT_freq   TT_freq   TG_freq  ...  17  18  19  20  Molecular_Weight_g/mol  \\\n",
       "0  0.089857  0.068908  0.087652  ...   0   0   0   0             321433.7929   \n",
       "1  0.078508  0.087341  0.073602  ...   1   0   0   0             349364.7098   \n",
       "2  0.083871  0.091398  0.073118  ...   0   0   0   0             312020.8765   \n",
       "\n",
       "   GC_Content_%  Melting_Temperature_C  ORF_Length  ORF_GC_Content  ORF_Count  \n",
       "0     50.743802             102.804380         285        0.508772         35  \n",
       "1     45.806768             100.816513         195        0.538462         35  \n",
       "2     45.513165             100.667990         279        0.455197         21  \n",
       "\n",
       "[3 rows x 5477 columns]"
      ]
     },
     "execution_count": 17,
     "metadata": {},
     "output_type": "execute_result"
    }
   ],
   "source": [
    "X.head(3)"
   ]
  },
  {
   "cell_type": "code",
   "execution_count": 18,
   "id": "8de6238a",
   "metadata": {},
   "outputs": [],
   "source": [
    "X = df.iloc[:, :-1]\n",
    "y = df.iloc[:, -1]"
   ]
  },
  {
   "cell_type": "code",
   "execution_count": 19,
   "id": "10cc777d",
   "metadata": {},
   "outputs": [],
   "source": [
    "fit = bestfeatures.fit(X, y)  # X, y are your data\n"
   ]
  },
  {
   "cell_type": "code",
   "execution_count": 20,
   "id": "733b194a",
   "metadata": {},
   "outputs": [],
   "source": [
    "dfscores = pd.DataFrame(fit.scores_)\n"
   ]
  },
  {
   "cell_type": "code",
   "execution_count": 21,
   "id": "e3c8f7f5",
   "metadata": {},
   "outputs": [],
   "source": [
    "dfcolumns = pd.DataFrame(X.columns)\n"
   ]
  },
  {
   "cell_type": "code",
   "execution_count": 22,
   "id": "624aa007",
   "metadata": {},
   "outputs": [],
   "source": [
    "# Concat two dataframes for better visualization \n",
    "featureScores = pd.concat([dfcolumns, dfscores], axis=1)\n"
   ]
  },
  {
   "cell_type": "code",
   "execution_count": 23,
   "id": "f62f78fb",
   "metadata": {},
   "outputs": [],
   "source": [
    "featureScores.columns = ['Specs', 'Score']  # Naming the dataframe columns\n"
   ]
  },
  {
   "cell_type": "code",
   "execution_count": 24,
   "id": "02f68989",
   "metadata": {},
   "outputs": [
    {
     "name": "stdout",
     "output_type": "stream",
     "text": [
      "                       Specs         Score\n",
      "5471  Molecular_Weight_g/mol  1.168150e+08\n",
      "5476               ORF_Count  1.451864e+04\n",
      "5474              ORF_Length  1.400355e+04\n",
      "5463                      13  2.308785e+03\n",
      "5462                      12  1.928946e+03\n",
      "...                      ...           ...\n",
      "2271             TTTTTT_freq  1.565283e-01\n",
      "642               CGGAG_freq  1.564185e-01\n",
      "980               ACACA_freq  1.548110e-01\n",
      "231                AAAA_freq  1.529441e-01\n",
      "61                  TCT_freq  1.508691e-01\n",
      "\n",
      "[100 rows x 2 columns]\n"
     ]
    }
   ],
   "source": [
    "print(featureScores.nlargest(100,'Score'))  # Print 10 best features"
   ]
  },
  {
   "cell_type": "code",
   "execution_count": 25,
   "id": "977419cb",
   "metadata": {},
   "outputs": [
    {
     "data": {
      "text/html": [
       "<div>\n",
       "<style scoped>\n",
       "    .dataframe tbody tr th:only-of-type {\n",
       "        vertical-align: middle;\n",
       "    }\n",
       "\n",
       "    .dataframe tbody tr th {\n",
       "        vertical-align: top;\n",
       "    }\n",
       "\n",
       "    .dataframe thead th {\n",
       "        text-align: right;\n",
       "    }\n",
       "</style>\n",
       "<table border=\"1\" class=\"dataframe\">\n",
       "  <thead>\n",
       "    <tr style=\"text-align: right;\">\n",
       "      <th></th>\n",
       "      <th>Specs</th>\n",
       "      <th>Score</th>\n",
       "    </tr>\n",
       "  </thead>\n",
       "  <tbody>\n",
       "    <tr>\n",
       "      <th>5471</th>\n",
       "      <td>Molecular_Weight_g/mol</td>\n",
       "      <td>1.168150e+08</td>\n",
       "    </tr>\n",
       "    <tr>\n",
       "      <th>5476</th>\n",
       "      <td>ORF_Count</td>\n",
       "      <td>1.451864e+04</td>\n",
       "    </tr>\n",
       "    <tr>\n",
       "      <th>5474</th>\n",
       "      <td>ORF_Length</td>\n",
       "      <td>1.400355e+04</td>\n",
       "    </tr>\n",
       "    <tr>\n",
       "      <th>5463</th>\n",
       "      <td>13</td>\n",
       "      <td>2.308785e+03</td>\n",
       "    </tr>\n",
       "    <tr>\n",
       "      <th>5462</th>\n",
       "      <td>12</td>\n",
       "      <td>1.928946e+03</td>\n",
       "    </tr>\n",
       "    <tr>\n",
       "      <th>...</th>\n",
       "      <td>...</td>\n",
       "      <td>...</td>\n",
       "    </tr>\n",
       "    <tr>\n",
       "      <th>2271</th>\n",
       "      <td>TTTTTT_freq</td>\n",
       "      <td>1.565283e-01</td>\n",
       "    </tr>\n",
       "    <tr>\n",
       "      <th>642</th>\n",
       "      <td>CGGAG_freq</td>\n",
       "      <td>1.564185e-01</td>\n",
       "    </tr>\n",
       "    <tr>\n",
       "      <th>980</th>\n",
       "      <td>ACACA_freq</td>\n",
       "      <td>1.548110e-01</td>\n",
       "    </tr>\n",
       "    <tr>\n",
       "      <th>231</th>\n",
       "      <td>AAAA_freq</td>\n",
       "      <td>1.529441e-01</td>\n",
       "    </tr>\n",
       "    <tr>\n",
       "      <th>61</th>\n",
       "      <td>TCT_freq</td>\n",
       "      <td>1.508691e-01</td>\n",
       "    </tr>\n",
       "  </tbody>\n",
       "</table>\n",
       "<p>100 rows × 2 columns</p>\n",
       "</div>"
      ],
      "text/plain": [
       "                       Specs         Score\n",
       "5471  Molecular_Weight_g/mol  1.168150e+08\n",
       "5476               ORF_Count  1.451864e+04\n",
       "5474              ORF_Length  1.400355e+04\n",
       "5463                      13  2.308785e+03\n",
       "5462                      12  1.928946e+03\n",
       "...                      ...           ...\n",
       "2271             TTTTTT_freq  1.565283e-01\n",
       "642               CGGAG_freq  1.564185e-01\n",
       "980               ACACA_freq  1.548110e-01\n",
       "231                AAAA_freq  1.529441e-01\n",
       "61                  TCT_freq  1.508691e-01\n",
       "\n",
       "[100 rows x 2 columns]"
      ]
     },
     "execution_count": 25,
     "metadata": {},
     "output_type": "execute_result"
    }
   ],
   "source": [
    "featureScores.nlargest(100,'Score')"
   ]
  },
  {
   "cell_type": "code",
   "execution_count": 26,
   "id": "a04c872f",
   "metadata": {},
   "outputs": [],
   "source": [
    "df_best_100_univariate_selection = featureScores.nlargest(100,'Score')"
   ]
  },
  {
   "cell_type": "code",
   "execution_count": 27,
   "id": "494f7bcd",
   "metadata": {},
   "outputs": [
    {
     "data": {
      "text/html": [
       "<div>\n",
       "<style scoped>\n",
       "    .dataframe tbody tr th:only-of-type {\n",
       "        vertical-align: middle;\n",
       "    }\n",
       "\n",
       "    .dataframe tbody tr th {\n",
       "        vertical-align: top;\n",
       "    }\n",
       "\n",
       "    .dataframe thead th {\n",
       "        text-align: right;\n",
       "    }\n",
       "</style>\n",
       "<table border=\"1\" class=\"dataframe\">\n",
       "  <thead>\n",
       "    <tr style=\"text-align: right;\">\n",
       "      <th></th>\n",
       "      <th>Specs</th>\n",
       "      <th>Score</th>\n",
       "    </tr>\n",
       "  </thead>\n",
       "  <tbody>\n",
       "    <tr>\n",
       "      <th>5471</th>\n",
       "      <td>Molecular_Weight_g/mol</td>\n",
       "      <td>1.168150e+08</td>\n",
       "    </tr>\n",
       "    <tr>\n",
       "      <th>5476</th>\n",
       "      <td>ORF_Count</td>\n",
       "      <td>1.451864e+04</td>\n",
       "    </tr>\n",
       "    <tr>\n",
       "      <th>5474</th>\n",
       "      <td>ORF_Length</td>\n",
       "      <td>1.400355e+04</td>\n",
       "    </tr>\n",
       "    <tr>\n",
       "      <th>5463</th>\n",
       "      <td>13</td>\n",
       "      <td>2.308785e+03</td>\n",
       "    </tr>\n",
       "    <tr>\n",
       "      <th>5462</th>\n",
       "      <td>12</td>\n",
       "      <td>1.928946e+03</td>\n",
       "    </tr>\n",
       "    <tr>\n",
       "      <th>...</th>\n",
       "      <td>...</td>\n",
       "      <td>...</td>\n",
       "    </tr>\n",
       "    <tr>\n",
       "      <th>2271</th>\n",
       "      <td>TTTTTT_freq</td>\n",
       "      <td>1.565283e-01</td>\n",
       "    </tr>\n",
       "    <tr>\n",
       "      <th>642</th>\n",
       "      <td>CGGAG_freq</td>\n",
       "      <td>1.564185e-01</td>\n",
       "    </tr>\n",
       "    <tr>\n",
       "      <th>980</th>\n",
       "      <td>ACACA_freq</td>\n",
       "      <td>1.548110e-01</td>\n",
       "    </tr>\n",
       "    <tr>\n",
       "      <th>231</th>\n",
       "      <td>AAAA_freq</td>\n",
       "      <td>1.529441e-01</td>\n",
       "    </tr>\n",
       "    <tr>\n",
       "      <th>61</th>\n",
       "      <td>TCT_freq</td>\n",
       "      <td>1.508691e-01</td>\n",
       "    </tr>\n",
       "  </tbody>\n",
       "</table>\n",
       "<p>100 rows × 2 columns</p>\n",
       "</div>"
      ],
      "text/plain": [
       "                       Specs         Score\n",
       "5471  Molecular_Weight_g/mol  1.168150e+08\n",
       "5476               ORF_Count  1.451864e+04\n",
       "5474              ORF_Length  1.400355e+04\n",
       "5463                      13  2.308785e+03\n",
       "5462                      12  1.928946e+03\n",
       "...                      ...           ...\n",
       "2271             TTTTTT_freq  1.565283e-01\n",
       "642               CGGAG_freq  1.564185e-01\n",
       "980               ACACA_freq  1.548110e-01\n",
       "231                AAAA_freq  1.529441e-01\n",
       "61                  TCT_freq  1.508691e-01\n",
       "\n",
       "[100 rows x 2 columns]"
      ]
     },
     "execution_count": 27,
     "metadata": {},
     "output_type": "execute_result"
    }
   ],
   "source": [
    "df_best_100_univariate_selection"
   ]
  },
  {
   "cell_type": "code",
   "execution_count": 28,
   "id": "11dc90d7",
   "metadata": {},
   "outputs": [],
   "source": [
    "df_best_100_univariate_selection.to_csv(\"1.best_100_features_univariate_selection_test.csv\", index = False)"
   ]
  },
  {
   "cell_type": "code",
   "execution_count": 29,
   "id": "66df3f87",
   "metadata": {},
   "outputs": [
    {
     "data": {
      "text/plain": [
       "<bound method DataFrame.nlargest of                       Specs         Score\n",
       "0                    A_freq      0.532113\n",
       "1                    T_freq      0.664944\n",
       "2                    C_freq      0.483088\n",
       "3                    G_freq      0.831685\n",
       "4                GC_content      1.228829\n",
       "...                     ...           ...\n",
       "5472           GC_Content_%    122.882875\n",
       "5473  Melting_Temperature_C      7.416239\n",
       "5474             ORF_Length  14003.554197\n",
       "5475         ORF_GC_Content      1.350645\n",
       "5476              ORF_Count  14518.636882\n",
       "\n",
       "[5477 rows x 2 columns]>"
      ]
     },
     "execution_count": 29,
     "metadata": {},
     "output_type": "execute_result"
    }
   ],
   "source": [
    "featureScores.nlargest"
   ]
  },
  {
   "cell_type": "code",
   "execution_count": null,
   "id": "e333fc78",
   "metadata": {},
   "outputs": [],
   "source": []
  },
  {
   "cell_type": "code",
   "execution_count": null,
   "id": "e83c927d",
   "metadata": {},
   "outputs": [],
   "source": []
  },
  {
   "cell_type": "code",
   "execution_count": null,
   "id": "4367eba0",
   "metadata": {},
   "outputs": [],
   "source": []
  },
  {
   "cell_type": "code",
   "execution_count": null,
   "id": "123851e1",
   "metadata": {},
   "outputs": [],
   "source": []
  },
  {
   "cell_type": "code",
   "execution_count": null,
   "id": "828f4329",
   "metadata": {},
   "outputs": [],
   "source": []
  },
  {
   "cell_type": "code",
   "execution_count": null,
   "id": "118422f3",
   "metadata": {},
   "outputs": [],
   "source": []
  }
 ],
 "metadata": {
  "kernelspec": {
   "display_name": "Python 3 (ipykernel)",
   "language": "python",
   "name": "python3"
  },
  "language_info": {
   "codemirror_mode": {
    "name": "ipython",
    "version": 3
   },
   "file_extension": ".py",
   "mimetype": "text/x-python",
   "name": "python",
   "nbconvert_exporter": "python",
   "pygments_lexer": "ipython3",
   "version": "3.9.9"
  }
 },
 "nbformat": 4,
 "nbformat_minor": 5
}
